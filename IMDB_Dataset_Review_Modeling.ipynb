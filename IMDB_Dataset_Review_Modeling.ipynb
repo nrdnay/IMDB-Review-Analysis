{
 "cells": [
  {
   "cell_type": "code",
   "execution_count": 20,
   "id": "80f78eea-290e-47e8-a375-4f2aaee3fe21",
   "metadata": {},
   "outputs": [],
   "source": [
    "import pandas as pd\n",
    "import numpy as np\n",
    "import matplotlib.pyplot as plt\n",
    "from sklearn.model_selection import train_test_split\n",
    "from sklearn.linear_model import LogisticRegression\n",
    "from sklearn.metrics import r2_score, confusion_matrix, classification_report\n",
    "from sklearn.feature_extraction.text import CountVectorizer, TfidfVectorizer\n",
    "import tensorflow as tf\n",
    "from tensorflow import keras\n",
    "from tensorflow.keras import layers\n",
    "from tensorflow.keras import regularizers"
   ]
  },
  {
   "cell_type": "code",
   "execution_count": 21,
   "id": "3ce9c167-0f43-41cb-9aa1-8aed00273adf",
   "metadata": {},
   "outputs": [
    {
     "name": "stdout",
     "output_type": "stream",
     "text": [
      "                                              review sentiment\n",
      "0  One of the other reviewers has mentioned that ...  positive\n",
      "1  A wonderful little production. <br /><br />The...  positive\n",
      "2  I thought this was a wonderful way to spend ti...  positive\n",
      "3  Basically there's a family where a little boy ...  negative\n",
      "4  Petter Mattei's \"Love in the Time of Money\" is...  positive\n",
      "                                                   review sentiment\n",
      "count                                               50000     50000\n",
      "unique                                              49582         2\n",
      "top     Loved today's show!!! It was a variety and not...  positive\n",
      "freq                                                    5     25000\n"
     ]
    },
    {
     "data": {
      "text/plain": [
       "((40000,), (10000,), (40000,), (10000,))"
      ]
     },
     "execution_count": 21,
     "metadata": {},
     "output_type": "execute_result"
    }
   ],
   "source": [
    "#Load IMDB Dataset with review, sentiment columns.\n",
    "df = pd.read_csv(\"IMDB Dataset.csv\")\n",
    "print(df.head())\n",
    "print(df.describe()) \n",
    "\n",
    "# Preperation of Data with TfidfVectorizer\n",
    "y = df.sentiment.replace({\"positive\":1, \"negative\":0}) \n",
    "x = df.review \n",
    "\n",
    "X_train, X_test, y_train, y_test = train_test_split(x, y, test_size=0.2, stratify=y, random_state=1)\n",
    "\n",
    "bag = TfidfVectorizer(max_features=30000, use_idf = True)\n",
    "X_train_tf = bag.fit_transform(X_train)\n",
    "X_test_tf = bag.transform(X_test)\n",
    "X_train.shape, X_test.shape, y_train.shape, y_test.shape"
   ]
  },
  {
   "cell_type": "markdown",
   "id": "9f0ea14a-8b7e-44d7-8f84-4e925ba595da",
   "metadata": {},
   "source": [
    "# MACHINE LEARNING MODELING : Logistic Regression"
   ]
  },
  {
   "cell_type": "code",
   "execution_count": 22,
   "id": "728a0d2a-0282-4f04-9283-f3e664e49978",
   "metadata": {},
   "outputs": [
    {
     "name": "stdout",
     "output_type": "stream",
     "text": [
      "\n",
      "MACHINE LEARNING : Logistic Regression PEerformance Results\n",
      "\n",
      "\n",
      "classification_reports:\n",
      "               precision    recall  f1-score   support\n",
      "\n",
      "           0       0.91      0.89      0.90      5000\n",
      "           1       0.89      0.91      0.90      5000\n",
      "\n",
      "    accuracy                           0.90     10000\n",
      "   macro avg       0.90      0.90      0.90     10000\n",
      "weighted avg       0.90      0.90      0.90     10000\n",
      "\n",
      "\n",
      "r2_score:\n",
      " 0.5992\n",
      "\n",
      "confusion_matrix\n",
      " [[4444  556]\n",
      " [ 446 4554]]\n",
      "\n",
      "Logistic Regression ML Model Test Prediction Results\n",
      "\n",
      "result1:  [0] result2:  [1] result3:  [0] result4:  [0]\n"
     ]
    }
   ],
   "source": [
    "# MACHINE LEARNING : Logistic Regression\n",
    "mdl = LogisticRegression(solver='saga', max_iter=3000, n_jobs = -1)\n",
    "mdl.fit(X_train_tf, y_train)\n",
    "preds = mdl.predict(X_test_tf)\n",
    "\n",
    "print(\"\\nMACHINE LEARNING : Logistic Regression PEerformance Results\\n\")\n",
    "print(\"\\nclassification_reports:\\n\", classification_report(y_test, preds))\n",
    "print(\"\\nr2_score:\\n\", r2_score(y_test, preds))\n",
    "print(\"\\nconfusion_matrix\\n\", confusion_matrix(y_test, preds))\n",
    "\n",
    "# Lets Try Logistic Regression Model\n",
    "\n",
    "test1 = \"I really didn't enjoy watching this. Very disappointed.\"  \n",
    "test2 = \"What a wonderful movie. I enjoyed a lot watching this with my kids.\"\n",
    "test3 = \"No worry. You haven't missed anything if you haven't watched this.\"\n",
    "test4 = \"I regret watching this. This is the worst movie I've ever seen.\"\n",
    "\n",
    "result1 = mdl.predict(bag.transform([test1]))  \n",
    "result2 = mdl.predict(bag.transform([test2]))\n",
    "result3 = mdl.predict(bag.transform([test3]))\n",
    "result4 = mdl.predict(bag.transform([test4]))\n",
    "\n",
    "print(\"\\nLogistic Regression ML Model Test Prediction Results\\n\")\n",
    "print(\"result1: \", result1, \"result2: \", result2, \"result3: \", result3, \"result4: \", result4)"
   ]
  },
  {
   "cell_type": "markdown",
   "id": "47e04f3b-5912-41b0-9ac5-ed29e1bfd9d7",
   "metadata": {},
   "source": [
    "# DEEP LEARNING MODELING"
   ]
  },
  {
   "cell_type": "code",
   "execution_count": 23,
   "id": "f6f8f05d-7e7e-4e31-a224-ae68659f28f0",
   "metadata": {},
   "outputs": [
    {
     "name": "stderr",
     "output_type": "stream",
     "text": [
      "/opt/anaconda3/lib/python3.11/site-packages/keras/src/layers/core/dense.py:87: UserWarning: Do not pass an `input_shape`/`input_dim` argument to a layer. When using Sequential models, prefer using an `Input(shape)` object as the first layer in the model instead.\n",
      "  super().__init__(activity_regularizer=activity_regularizer, **kwargs)\n"
     ]
    },
    {
     "name": "stdout",
     "output_type": "stream",
     "text": [
      "Epoch 1/4\n",
      "\u001b[1m18/18\u001b[0m \u001b[32m━━━━━━━━━━━━━━━━━━━━\u001b[0m\u001b[37m\u001b[0m \u001b[1m11s\u001b[0m 532ms/step - accuracy: 0.6151 - loss: 1.1807 - val_accuracy: 0.8533 - val_loss: 0.8070\n",
      "Epoch 2/4\n",
      "\u001b[1m18/18\u001b[0m \u001b[32m━━━━━━━━━━━━━━━━━━━━\u001b[0m\u001b[37m\u001b[0m \u001b[1m10s\u001b[0m 531ms/step - accuracy: 0.8512 - loss: 0.7457 - val_accuracy: 0.8955 - val_loss: 0.5044\n",
      "Epoch 3/4\n",
      "\u001b[1m18/18\u001b[0m \u001b[32m━━━━━━━━━━━━━━━━━━━━\u001b[0m\u001b[37m\u001b[0m \u001b[1m9s\u001b[0m 465ms/step - accuracy: 0.8976 - loss: 0.4968 - val_accuracy: 0.9020 - val_loss: 0.4740\n",
      "Epoch 4/4\n",
      "\u001b[1m18/18\u001b[0m \u001b[32m━━━━━━━━━━━━━━━━━━━━\u001b[0m\u001b[37m\u001b[0m \u001b[1m8s\u001b[0m 445ms/step - accuracy: 0.9316 - loss: 0.4278 - val_accuracy: 0.9020 - val_loss: 0.4550\n",
      "\u001b[1m1250/1250\u001b[0m \u001b[32m━━━━━━━━━━━━━━━━━━━━\u001b[0m\u001b[37m\u001b[0m \u001b[1m12s\u001b[0m 9ms/step - accuracy: 0.9616 - loss: 0.3614\n",
      "\n",
      "DL MODEL EVALUATION\n",
      ":\n",
      "Train Loss: 0.3705\n",
      "Train Accuracy: 0.9555\n",
      "\u001b[1m313/313\u001b[0m \u001b[32m━━━━━━━━━━━━━━━━━━━━\u001b[0m\u001b[37m\u001b[0m \u001b[1m3s\u001b[0m 10ms/step - accuracy: 0.8987 - loss: 0.4685\n",
      "Test Loss: 0.4667\n",
      "Test Accuracy: 0.9007\n",
      "\u001b[1m313/313\u001b[0m \u001b[32m━━━━━━━━━━━━━━━━━━━━\u001b[0m\u001b[37m\u001b[0m \u001b[1m2s\u001b[0m 6ms/step\n",
      "\n",
      "Deep Learning Model - Classification Report:\n",
      "              precision    recall  f1-score   support\n",
      "\n",
      "           0       0.90      0.90      0.90      5000\n",
      "           1       0.90      0.90      0.90      5000\n",
      "\n",
      "    accuracy                           0.90     10000\n",
      "   macro avg       0.90      0.90      0.90     10000\n",
      "weighted avg       0.90      0.90      0.90     10000\n",
      "\n",
      "\n",
      "r2_score(y_test, y_pred: \n",
      "0.6028\n",
      "\n",
      "Deep Learning Model - Confusion Matrix:\n",
      "[[4522  478]\n",
      " [ 515 4485]]\n",
      "\u001b[1m1/1\u001b[0m \u001b[32m━━━━━━━━━━━━━━━━━━━━\u001b[0m\u001b[37m\u001b[0m \u001b[1m0s\u001b[0m 57ms/step\n",
      "\u001b[1m1/1\u001b[0m \u001b[32m━━━━━━━━━━━━━━━━━━━━\u001b[0m\u001b[37m\u001b[0m \u001b[1m0s\u001b[0m 62ms/step\n",
      "\u001b[1m1/1\u001b[0m \u001b[32m━━━━━━━━━━━━━━━━━━━━\u001b[0m\u001b[37m\u001b[0m \u001b[1m0s\u001b[0m 58ms/step\n",
      "\u001b[1m1/1\u001b[0m \u001b[32m━━━━━━━━━━━━━━━━━━━━\u001b[0m\u001b[37m\u001b[0m \u001b[1m0s\u001b[0m 56ms/step\n",
      "\n",
      "Deep Learning DL Model Test Prediction Results:\n",
      "result1:  [[0]] result2:  [[1]] result3:  [[0]] result4:  [[0]]\n"
     ]
    }
   ],
   "source": [
    "# DEEP LEARNING MODELING\n",
    "\n",
    "model = keras.Sequential([\n",
    "    layers.Dense(256, activation='relu', input_shape=(X_train_tf.shape[1],), kernel_regularizer=regularizers.l2(0.001)),\n",
    "    layers.Dropout(0.5),\n",
    "    layers.Dense(128, activation='relu', kernel_regularizer=regularizers.l2(0.001)),\n",
    "    layers.Dropout(0.3),\n",
    "    layers.Dense(64, activation='relu', kernel_regularizer=regularizers.l2(0.001)), \n",
    "    layers.Dropout(0.2), \n",
    "    layers.Dense(1, activation='sigmoid')\n",
    "])\n",
    "# Compile the model\n",
    "model.compile(optimizer=\"adam\", loss=\"binary_crossentropy\", metrics=[\"accuracy\"])\n",
    "\n",
    "# Train the model\n",
    "history = model.fit(X_train_tf, y_train, epochs=4, batch_size=2000, validation_split=0.1)\n",
    "\n",
    "# MODEL EVALUATION\n",
    "loss, accuracy = model.evaluate(X_train_tf, y_train)\n",
    "print(\"\\nDL MODEL EVALUATION\\n:\")\n",
    "print(f\"Train Loss: {loss:.4f}\")\n",
    "print(f\"Train Accuracy: {accuracy:.4f}\")\n",
    "\n",
    "loss, accuracy = model.evaluate(X_test_tf, y_test)\n",
    "print(f\"Test Loss: {loss:.4f}\")\n",
    "print(f\"Test Accuracy: {accuracy:.4f}\")\n",
    "\n",
    "# Make predictions\n",
    "y_pred_dl = (model.predict(X_test_tf) > 0.5).astype(\"int32\")\n",
    "\n",
    "# Print classification report and confusion matrix for the deep learning model\n",
    "print(\"\\nDeep Learning Model - Classification Report:\")\n",
    "print(classification_report(y_test, y_pred_dl))\n",
    "print(\"\\nr2_score(y_test, y_pred: \")\n",
    "print(r2_score(y_test, y_pred_dl))\n",
    "print(\"\\nDeep Learning Model - Confusion Matrix:\")\n",
    "print(confusion_matrix(y_test, y_pred_dl))\n",
    "\n",
    "# Test the model with new data\n",
    "result1_dl = (model.predict(bag.transform([test1])) > 0.5).astype(\"int32\")\n",
    "result2_dl = (model.predict(bag.transform([test2])) > 0.5).astype(\"int32\")\n",
    "result3_dl = (model.predict(bag.transform([test3])) > 0.5).astype(\"int32\")\n",
    "result4_dl = (model.predict(bag.transform([test4])) > 0.5).astype(\"int32\")\n",
    "\n",
    "print(\"\\nDeep Learning DL Model Test Prediction Results:\")\n",
    "print(\"result1: \", result1_dl, \"result2: \", result2_dl, \"result3: \", result3_dl, \"result4: \", result4_dl)"
   ]
  },
  {
   "cell_type": "code",
   "execution_count": 25,
   "id": "ec237cb3-2309-4ac0-ac62-6112eadcd155",
   "metadata": {},
   "outputs": [
    {
     "data": {
      "image/png": "[encoded data removed]",
      "text/plain": [
       "<Figure size 640x480 with 1 Axes>"
      ]
     },
     "metadata": {},
     "output_type": "display_data"
    }
   ],
   "source": [
    "plt.plot(history.history[\"val_loss\"], label=\"Val Loss\")\n",
    "plt.plot(history.history[\"loss\"], label=\"Train Loss\")\n",
    "plt.xlabel(\"Epoch\")\n",
    "plt.ylabel(\"Loss\")\n",
    "plt.title(\"Loss vs Epochs\")\n",
    "plt.legend()\n",
    "plt.grid(True)\n",
    "plt.savefig(\"grafik1.png\", dpi=300, bbox_inches='tight')\n",
    "plt.show()"
   ]
  },
  {
   "cell_type": "code",
   "execution_count": null,
   "id": "3e321ced-e39c-42be-891a-e9e1f3baf8e8",
   "metadata": {},
   "outputs": [],
   "source": []
  },
  {
   "cell_type": "code",
   "execution_count": null,
   "id": "421d8ec0-a611-436a-9e99-0cb9291c50fb",
   "metadata": {},
   "outputs": [],
   "source": []
  },
  {
   "cell_type": "code",
   "execution_count": null,
   "id": "337e4b48-c530-4078-9538-ba7a110768a9",
   "metadata": {},
   "outputs": [],
   "source": []
  },
  {
   "cell_type": "code",
   "execution_count": null,
   "id": "e93c70bd-8ca0-4134-be93-63a4706f72e9",
   "metadata": {},
   "outputs": [],
   "source": []
  }
 ],
 "metadata": {
  "kernelspec": {
   "display_name": "Python 3 (ipykernel)",
   "language": "python",
   "name": "python3"
  },
  "language_info": {
   "codemirror_mode": {
    "name": "ipython",
    "version": 3
   },
   "file_extension": ".py",
   "mimetype": "text/x-python",
   "name": "python",
   "nbconvert_exporter": "python",
   "pygments_lexer": "ipython3",
   "version": "3.11.7"
  }
 },
 "nbformat": 4,
 "nbformat_minor": 5
}
